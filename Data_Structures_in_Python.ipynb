{
  "nbformat": 4,
  "nbformat_minor": 0,
  "metadata": {
    "colab": {
      "provenance": [],
      "authorship_tag": "ABX9TyMB9/LApYoGyUKTUkf0T7mk",
      "include_colab_link": true
    },
    "kernelspec": {
      "name": "python3",
      "display_name": "Python 3"
    },
    "language_info": {
      "name": "python"
    }
  },
  "cells": [
    {
      "cell_type": "markdown",
      "metadata": {
        "id": "view-in-github",
        "colab_type": "text"
      },
      "source": [
        "<a href=\"https://colab.research.google.com/github/bagmitadas/Assignments/blob/main/Data_Structures_in_Python.ipynb\" target=\"_parent\"><img src=\"https://colab.research.google.com/assets/colab-badge.svg\" alt=\"Open In Colab\"/></a>"
      ]
    },
    {
      "cell_type": "markdown",
      "source": [
        "1.\tWrite a code to reverse a string."
      ],
      "metadata": {
        "id": "gqhRKMQYx5Gu"
      }
    },
    {
      "cell_type": "code",
      "source": [
        "def reverse_string(input_string):\n",
        "    if not isinstance(input_string, str):\n",
        "        return \"\"  # Handle non-string input\n",
        "\n",
        "    return input_string[::-1]\n",
        "test_string = \"hello\"\n",
        "reversed_string = reverse_string(test_string)\n",
        "print(f\"Original string: {test_string}\")\n",
        "print(f\"Reversed string: {reversed_string}\")"
      ],
      "metadata": {
        "colab": {
          "base_uri": "https://localhost:8080/"
        },
        "id": "MgXUyKDZx523",
        "outputId": "2871e03a-ee17-4278-a1f0-ce458088dfbe"
      },
      "execution_count": null,
      "outputs": [
        {
          "output_type": "stream",
          "name": "stdout",
          "text": [
            "Original string: hello\n",
            "Reversed string: olleh\n"
          ]
        }
      ]
    },
    {
      "cell_type": "markdown",
      "source": [
        "2.\tWrite a code to count the number of vowels in a string"
      ],
      "metadata": {
        "id": "5MB7LpKz0GkX"
      }
    },
    {
      "cell_type": "code",
      "source": [
        "def count_vowels(input_string):\n",
        "\n",
        "    if not isinstance(input_string, str):\n",
        "        return 0  # Handle non-string input\n",
        "\n",
        "    vowels = \"aeiouAEIOU\"\n",
        "    vowel_count = 0\n",
        "    for char in input_string:\n",
        "        if char in vowels:\n",
        "            vowel_count += 1\n",
        "    return vowel_count\n",
        "test_string = \"hello\"\n",
        "print(f\"Number of vowels: {count_vowels(test_string)}\") # Added vowel count"
      ],
      "metadata": {
        "colab": {
          "base_uri": "https://localhost:8080/"
        },
        "id": "-1uQf8n40cwT",
        "outputId": "d739b9be-ea41-429d-c8e9-ddce2e205955"
      },
      "execution_count": null,
      "outputs": [
        {
          "output_type": "stream",
          "name": "stdout",
          "text": [
            "Number of vowels: 2\n"
          ]
        }
      ]
    },
    {
      "cell_type": "markdown",
      "source": [
        "3.\tWrite a code to check if a given string is a palindrome or not."
      ],
      "metadata": {
        "id": "eYnk4m030tT-"
      }
    },
    {
      "cell_type": "code",
      "source": [
        "def is_palindrome(input_string):\n",
        "    if not isinstance(input_string, str):\n",
        "        return False  # Handle non-string input\n",
        "\n",
        "    # Remove non-alphanumeric characters and convert to lowercase\n",
        "    processed_string = ''.join(char.lower() for char in input_string if char.isalnum())\n",
        "\n",
        "    # Compare the processed string with its reverse\n",
        "    return processed_string == processed_string[::-1]\n",
        "\n",
        "# Example Usage\n",
        "test_string_1 = \"madam\"\n",
        "print(f\"'{test_string_1}' is a palindrome: {is_palindrome(test_string_1)}\")"
      ],
      "metadata": {
        "colab": {
          "base_uri": "https://localhost:8080/"
        },
        "id": "mncH38at0U6i",
        "outputId": "0c728d83-9b0f-4700-c36b-3041f52a9f42"
      },
      "execution_count": null,
      "outputs": [
        {
          "output_type": "stream",
          "name": "stdout",
          "text": [
            "'madam' is a palindrome: True\n"
          ]
        }
      ]
    },
    {
      "cell_type": "markdown",
      "source": [
        "4.\tWrite a code to check if two given strings are anagrams of each other."
      ],
      "metadata": {
        "id": "OAlinN6k31pf"
      }
    },
    {
      "cell_type": "code",
      "source": [
        "def are_anagrams(str1, str2):\n",
        "    if not isinstance(str1, str) or not isinstance(str2, str):\n",
        "        return False  # Handle non-string input\n",
        "\n",
        "    # Remove spaces and convert to lowercase for case-insensitive comparison\n",
        "    str1 = str1.replace(\" \", \"\").lower()\n",
        "    str2 = str2.replace(\" \", \"\").lower()\n",
        "\n",
        "    # Check if the lengths are different\n",
        "    if len(str1) != len(str2):\n",
        "        return False\n",
        "\n",
        "    # Using dictionaries (hash maps) to count character frequencies\n",
        "    char_count1 = {}\n",
        "    char_count2 = {}\n",
        "\n",
        "    for char in str1:\n",
        "        char_count1[char] = char_count1.get(char, 0) + 1\n",
        "    for char in str2:\n",
        "        char_count2[char] = char_count2.get(char, 0) + 1\n",
        "\n",
        "    return char_count1 == char_count2\n",
        "\n",
        "# Example Usage\n",
        "string1 = \"listen\"\n",
        "string2 = \"silent\"\n",
        "print(f\"'{string1}' and '{string2}' are anagrams: {are_anagrams(string1, string2)}\")\n",
        "\n",
        "string3 = \"hello\"\n",
        "string4 = \"world\"\n",
        "print(f\"'{string3}' and '{string4}' are anagrams: {are_anagrams(string3, string4)}\")\n",
        "\n",
        "string5 = \"Astronomer\"\n",
        "string6 = \"Moon starer\"\n",
        "print(f\"'{string5}' and '{string6}' are anagrams: {are_anagrams(string5, string6)}\")\n",
        "\n",
        "string7 = \"12345\"\n",
        "string8 = 54321\n",
        "print(f\"'{string7}' and '{string8}' are anagrams: {are_anagrams(string7, string8)}\")\n"
      ],
      "metadata": {
        "colab": {
          "base_uri": "https://localhost:8080/"
        },
        "id": "HFw0o3Bq36oy",
        "outputId": "3843198d-b003-4805-d455-529d54215f4a"
      },
      "execution_count": null,
      "outputs": [
        {
          "output_type": "stream",
          "name": "stdout",
          "text": [
            "'listen' and 'silent' are anagrams: True\n",
            "'hello' and 'world' are anagrams: False\n",
            "'Astronomer' and 'Moon starer' are anagrams: True\n",
            "'12345' and '54321' are anagrams: False\n"
          ]
        }
      ]
    },
    {
      "cell_type": "markdown",
      "source": [
        "5.\tWrite a code to find all occurrences of a given substring within another string\n",
        "\n"
      ],
      "metadata": {
        "id": "AT4Mk6Mc37Dw"
      }
    },
    {
      "cell_type": "code",
      "source": [
        "def find_all_occurrences(text, substring):\n",
        "\n",
        "    if not isinstance(text, str) or not isinstance(substring, str):\n",
        "        return []  # Handle non-string input\n",
        "\n",
        "    if not substring:\n",
        "        return [] # Handle empty substring\n",
        "\n",
        "    occurrences = []\n",
        "    start_index = 0\n",
        "    while start_index < len(text):\n",
        "        index = text.find(substring, start_index)\n",
        "        if index == -1:\n",
        "            break  # Substring not found anymore\n",
        "        occurrences.append(index)\n",
        "        start_index = index + 1  # Find the next occurrence\n",
        "\n",
        "    return occurrences\n",
        "\n",
        "# Example Usage\n",
        "text = \"This is a test string. This is another test.\"\n",
        "substring = \"test\"\n",
        "result = find_all_occurrences(text, substring)\n",
        "print(f\"Occurrences of '{substring}' in the text: {result}\")\n"
      ],
      "metadata": {
        "colab": {
          "base_uri": "https://localhost:8080/"
        },
        "id": "44cFfZzI4BNT",
        "outputId": "5bc5651e-45bb-4539-d2a7-9f7183e7008d"
      },
      "execution_count": null,
      "outputs": [
        {
          "output_type": "stream",
          "name": "stdout",
          "text": [
            "Occurrences of 'test' in the text: [10, 39]\n"
          ]
        }
      ]
    },
    {
      "cell_type": "markdown",
      "source": [
        "6.\tWrite a code to perform basic string compression using the counts of repeated characters\n"
      ],
      "metadata": {
        "id": "i9rr_v9l4Cf4"
      }
    },
    {
      "cell_type": "code",
      "source": [
        "def compress_string(input_string):\n",
        "    if not isinstance(input_string, str):\n",
        "        return \"\"  # Handle non-string input\n",
        "    if not input_string:\n",
        "        return \"\"  # Handle empty string\n",
        "\n",
        "    compressed_string = \"\"\n",
        "    count = 1\n",
        "    i = 0\n",
        "    while i < len(input_string):\n",
        "        char = input_string[i]\n",
        "        j = i + 1\n",
        "        while j < len(input_string) and input_string[j] == char:\n",
        "            count += 1\n",
        "            j += 1\n",
        "        compressed_string += char + str(count)\n",
        "        i = j\n",
        "        count = 1 # Reset count for the next character\n",
        "\n",
        "    # Return the shorter string\n",
        "    return compressed_string if len(compressed_string) < len(input_string) else input_string\n",
        "\n",
        "# Example Usage\n",
        "test_string1 = \"aabcccccaaa\"\n",
        "print(f\"Original string: {test_string1}\")\n",
        "print(f\"Compressed string: {compress_string(test_string1)}\")\n"
      ],
      "metadata": {
        "colab": {
          "base_uri": "https://localhost:8080/"
        },
        "id": "sMbGooN34IDV",
        "outputId": "e43956f7-0b1e-44e9-dbe9-101cae0c4850"
      },
      "execution_count": null,
      "outputs": [
        {
          "output_type": "stream",
          "name": "stdout",
          "text": [
            "Original string: aabcccccaaa\n",
            "Compressed string: a2b1c5a3\n"
          ]
        }
      ]
    },
    {
      "cell_type": "markdown",
      "source": [
        "7.\tWrite a code to determine if a string has all unique characters\n"
      ],
      "metadata": {
        "id": "vKJdfD5_4IpD"
      }
    },
    {
      "cell_type": "code",
      "source": [
        "def has_unique_characters(input_string):\n",
        "\n",
        "    if not isinstance(input_string, str):\n",
        "        return False  # Handle non-string input\n",
        "    char_counts = {}\n",
        "    for char in input_string:\n",
        "        if char in char_counts:\n",
        "            return False  # Character already seen, not unique\n",
        "        char_counts[char] = 1\n",
        "    return True\n",
        "\n",
        "# Example Usage\n",
        "test_string1 = \"abcdefg\"\n",
        "print(f\"'{test_string1}' has unique characters: {has_unique_characters(test_string1)}\")\n"
      ],
      "metadata": {
        "colab": {
          "base_uri": "https://localhost:8080/"
        },
        "id": "J_kPK9Fb4Lwh",
        "outputId": "6db7c5e1-5ded-4e7d-963b-40b5844b51e5"
      },
      "execution_count": null,
      "outputs": [
        {
          "output_type": "stream",
          "name": "stdout",
          "text": [
            "'abcdefg' has unique characters: True\n"
          ]
        }
      ]
    },
    {
      "cell_type": "markdown",
      "source": [
        "8.\tWrite a code to convert a given string to uppercase or lowercase\n"
      ],
      "metadata": {
        "id": "8vMnf--W4MMd"
      }
    },
    {
      "cell_type": "code",
      "source": [
        "def convert_string_case(input_string, case=\"lower\"):\n",
        "\n",
        "    if not isinstance(input_string, str):\n",
        "        return \"\"  # Handle non-string input\n",
        "\n",
        "    if case.lower() == \"upper\":\n",
        "        return input_string.upper()\n",
        "    else:\n",
        "        return input_string.lower()\n",
        "\n",
        "# Example Usage\n",
        "test_string = \"Hello World\"\n",
        "print(f\"Original string: {test_string}\")\n",
        "print(f\"Lowercase: {convert_string_case(test_string, 'lower')}\")\n",
        "print(f\"Uppercase: {convert_string_case(test_string, 'upper')}\")"
      ],
      "metadata": {
        "colab": {
          "base_uri": "https://localhost:8080/"
        },
        "id": "5H18fH3F4Pf4",
        "outputId": "5b26b09f-3ff9-4318-9231-478325fdb731"
      },
      "execution_count": null,
      "outputs": [
        {
          "output_type": "stream",
          "name": "stdout",
          "text": [
            "Original string: Hello World\n",
            "Lowercase: hello world\n",
            "Uppercase: HELLO WORLD\n"
          ]
        }
      ]
    },
    {
      "cell_type": "markdown",
      "source": [
        "9.\tWrite a code to count the number of words in a string\n"
      ],
      "metadata": {
        "id": "W5AVRmH64QHM"
      }
    },
    {
      "cell_type": "code",
      "source": [
        "def count_words(input_string):\n",
        "    if not isinstance(input_string, str):\n",
        "        return 0  # Handle non-string input\n",
        "\n",
        "    # Remove leading and trailing spaces, and split by any whitespace\n",
        "    words = input_string.strip().split()\n",
        "    return len(words)\n",
        "\n",
        "# Example Usage\n",
        "test_string1 = \"Hello World\"\n",
        "print(f\"'{test_string1}' has {count_words(test_string1)} words.\")\n"
      ],
      "metadata": {
        "colab": {
          "base_uri": "https://localhost:8080/"
        },
        "id": "RhMbeOqz4StV",
        "outputId": "20df853c-30f9-4050-bfdb-3e58919bd8ee"
      },
      "execution_count": null,
      "outputs": [
        {
          "output_type": "stream",
          "name": "stdout",
          "text": [
            "'Hello World' has 2 words.\n"
          ]
        }
      ]
    },
    {
      "cell_type": "markdown",
      "source": [
        "10.\tWrite a code to concatenate two strings without using the + operator"
      ],
      "metadata": {
        "id": "YzxDKydJ4TGn"
      }
    },
    {
      "cell_type": "code",
      "source": [
        "def concatenate_strings(str1, str2):\n",
        "\n",
        "    if not isinstance(str1, str) or not isinstance(str2, str):\n",
        "        return \"\"  # Handle non-string input\n",
        "    return \"\".join((str1, str2))\n",
        "\n",
        "# Example Usage\n",
        "string1 = \"Hello\"\n",
        "string2 = \"World\"\n",
        "result = concatenate_strings(string1, string2)\n",
        "print(f\"Concatenation of '{string1}' and '{string2}': {result}\")\n"
      ],
      "metadata": {
        "colab": {
          "base_uri": "https://localhost:8080/"
        },
        "id": "iNaWHRWy4T8c",
        "outputId": "e8fc864d-c530-4eee-8384-de7f153aeecf"
      },
      "execution_count": null,
      "outputs": [
        {
          "output_type": "stream",
          "name": "stdout",
          "text": [
            "Concatenation of 'Hello' and 'World': HelloWorld\n"
          ]
        }
      ]
    },
    {
      "cell_type": "markdown",
      "source": [
        "11.\tWrite a code to remove all occurrences of a specific element from a list."
      ],
      "metadata": {
        "id": "9q6jPP-j8Myn"
      }
    },
    {
      "cell_type": "code",
      "source": [
        "def remove_all_occurrences(input_list, element_to_remove):\n",
        "\n",
        "    if not isinstance(input_list, list):\n",
        "        return []  # Handle non-list input\n",
        "\n",
        "    new_list = [item for item in input_list if item != element_to_remove]\n",
        "    return new_list\n",
        "\n",
        "# Example Usage\n",
        "my_list = [1, 2, 3, 2, 4, 2, 5]\n",
        "element_to_remove = 2\n",
        "new_list = remove_all_occurrences(my_list, element_to_remove)\n",
        "print(f\"Original list: {my_list}\")\n",
        "print(f\"List after removing all occurrences of {element_to_remove}: {new_list}\")"
      ],
      "metadata": {
        "colab": {
          "base_uri": "https://localhost:8080/"
        },
        "id": "cpv5uzdl0P0h",
        "outputId": "7c83ee70-f5a9-4ec5-c792-20165ff62978"
      },
      "execution_count": null,
      "outputs": [
        {
          "output_type": "stream",
          "name": "stdout",
          "text": [
            "Original list: [1, 2, 3, 2, 4, 2, 5]\n",
            "List after removing all occurrences of 2: [1, 3, 4, 5]\n"
          ]
        }
      ]
    },
    {
      "cell_type": "markdown",
      "source": [
        "12.\tImplement a code to find the second largest number in a given list of integers."
      ],
      "metadata": {
        "id": "iRa6Ar_l8WKi"
      }
    },
    {
      "cell_type": "code",
      "source": [
        "def find_second_largest(numbers):\n",
        "\n",
        "    if not isinstance(numbers, list):\n",
        "        return None # Handle non-list input\n",
        "\n",
        "    if len(numbers) < 2:\n",
        "        return None  # Not enough elements to have a second largest\n",
        "\n",
        "    # Remove duplicate elements to handle cases like [1, 1, 1, 2, 2]\n",
        "    unique_numbers = sorted(list(set(numbers)), reverse=True)\n",
        "\n",
        "    if len(unique_numbers) < 2:\n",
        "        return None #Not enough unique elements\n",
        "\n",
        "    return unique_numbers[1]  # The second element in the sorted list is the second largest\n",
        "\n",
        "# Example Usage\n",
        "numbers1 = [1, 5, 2, 8, 3]\n",
        "second_largest1 = find_second_largest(numbers1)\n",
        "print(f\"Second largest in {numbers1}: {second_largest1}\")  # Output: 5\n"
      ],
      "metadata": {
        "colab": {
          "base_uri": "https://localhost:8080/"
        },
        "id": "5-Ajf2oL8YbE",
        "outputId": "b3175ed8-abbe-405e-ea37-3c2a5d7d6d83"
      },
      "execution_count": null,
      "outputs": [
        {
          "output_type": "stream",
          "name": "stdout",
          "text": [
            "Second largest in [1, 5, 2, 8, 3]: 5\n"
          ]
        }
      ]
    },
    {
      "cell_type": "markdown",
      "source": [
        "13.\tCreate a code to count the occurrences of each element in a list and return a dictionary with elements as keys and their counts as values.\n"
      ],
      "metadata": {
        "id": "c7OpOxCg8YxM"
      }
    },
    {
      "cell_type": "code",
      "source": [
        "def count_element_occurrences(input_list):\n",
        "\n",
        "    if not isinstance(input_list, list):\n",
        "        return {}  # Handle non-list input\n",
        "\n",
        "    counts = {}\n",
        "    for element in input_list:\n",
        "        if element in counts:\n",
        "            counts[element] += 1\n",
        "        else:\n",
        "            counts[element] = 1\n",
        "    return counts\n",
        "\n",
        "# Example Usage\n",
        "my_list = [1, 2, 2, 3, 3, 3, 4, 4, 4, 4]\n",
        "element_counts = count_element_occurrences(my_list)\n",
        "print(f\"Element counts in {my_list}: {element_counts}\")\n"
      ],
      "metadata": {
        "colab": {
          "base_uri": "https://localhost:8080/"
        },
        "id": "NYZppPr68bR3",
        "outputId": "40fa81d5-10be-4525-843f-72c08469e701"
      },
      "execution_count": null,
      "outputs": [
        {
          "output_type": "stream",
          "name": "stdout",
          "text": [
            "Element counts in [1, 2, 2, 3, 3, 3, 4, 4, 4, 4]: {1: 1, 2: 2, 3: 3, 4: 4}\n"
          ]
        }
      ]
    },
    {
      "cell_type": "markdown",
      "source": [
        "14.\tWrite a code to reverse a list in-place without using any built-in reverse functions."
      ],
      "metadata": {
        "id": "JAwixmPu8bq2"
      }
    },
    {
      "cell_type": "code",
      "source": [
        "def reverse_list_in_place(input_list):\n",
        "    if not isinstance(input_list, list):\n",
        "        return  # Handle non-list input\n",
        "\n",
        "    left = 0\n",
        "    right = len(input_list) - 1\n",
        "\n",
        "    while left < right:\n",
        "        # Swap elements at left and right indices\n",
        "        input_list[left], input_list[right] = input_list[right], input_list[left]\n",
        "        left += 1\n",
        "        right -= 1\n",
        "\n",
        "# Example Usage\n",
        "my_list = [1, 2, 3, 4, 5]\n",
        "print(\"Original list:\", my_list)\n",
        "reverse_list_in_place(my_list)\n",
        "print(\"Reversed list:\", my_list)  # Output: [5, 4, 3, 2, 1\n"
      ],
      "metadata": {
        "colab": {
          "base_uri": "https://localhost:8080/"
        },
        "id": "vR2nosmX8gHy",
        "outputId": "c738a2ae-f5b5-454e-9246-0abaecfc90f6"
      },
      "execution_count": null,
      "outputs": [
        {
          "output_type": "stream",
          "name": "stdout",
          "text": [
            "Original list: [1, 2, 3, 4, 5]\n",
            "Reversed list: [5, 4, 3, 2, 1]\n"
          ]
        }
      ]
    },
    {
      "cell_type": "markdown",
      "source": [
        "15.\tWrite a code to merge two sorted lists into a single sorted list.\n"
      ],
      "metadata": {
        "id": "Tz69CtT-8jEB"
      }
    },
    {
      "cell_type": "code",
      "source": [
        "def merge_sorted_lists(list1, list2):\n",
        "    \"\"\"\n",
        "    Merges two sorted lists into a single sorted list.\n",
        "\n",
        "    Args:\n",
        "        list1: The first sorted list.\n",
        "        list2: The second sorted list.\n",
        "\n",
        "    Returns:\n",
        "        A new list containing all elements from both input lists, sorted in\n",
        "        ascending order. Returns an empty list if either input is not a list.\n",
        "    \"\"\"\n",
        "    if not isinstance(list1, list) or not isinstance(list2, list):\n",
        "        return []  # Handle invalid input\n",
        "\n",
        "    merged_list = []\n",
        "    i = 0\n",
        "    j = 0\n",
        "\n",
        "    while i < len(list1) and j < len(list2):\n",
        "        if list1[i] <= list2[j]:\n",
        "            merged_list.append(list1[i])\n",
        "            i += 1\n",
        "        else:\n",
        "            merged_list.append(list2[j])\n",
        "            j += 1\n",
        "\n",
        "    # Add any remaining elements from list1\n",
        "    while i < len(list1):\n",
        "        merged_list.append(list1[i])\n",
        "        i += 1\n",
        "\n",
        "    # Add any remaining elements from list2\n",
        "    while j < len(list2):\n",
        "        merged_list.append(list2[j])\n",
        "        j += 1\n",
        "\n",
        "    return merged_list\n",
        "\n",
        "# Example Usage\n",
        "list1 = [1, 3, 5, 7, 9]\n",
        "list2 = [2, 4, 6, 8, 10]\n",
        "merged_list = merge_sorted_lists(list1, list2)\n",
        "print(f\"Merging {list1} and {list2}: {merged_list}\")  # Output: [1, 2, 3, 4, 5, 6, 7, 8, 9, 10]\n"
      ],
      "metadata": {
        "colab": {
          "base_uri": "https://localhost:8080/"
        },
        "id": "uZsTycEV8t96",
        "outputId": "f45234b0-9344-4e53-ba91-492b8ae7ebca"
      },
      "execution_count": null,
      "outputs": [
        {
          "output_type": "stream",
          "name": "stdout",
          "text": [
            "Merging [1, 3, 5, 7, 9] and [2, 4, 6, 8, 10]: [1, 2, 3, 4, 5, 6, 7, 8, 9, 10]\n"
          ]
        }
      ]
    },
    {
      "cell_type": "markdown",
      "source": [
        "16.\tImplement a code to find the intersection of two given lists.\n"
      ],
      "metadata": {
        "id": "3QLFJqPM8ggO"
      }
    },
    {
      "cell_type": "code",
      "source": [
        "def find_intersection(list1, list2):\n",
        "\n",
        "    if not isinstance(list1, list) or not isinstance(list2, list):\n",
        "        return []  # Handle invalid input\n",
        "\n",
        "    set1 = set(list1)\n",
        "    set2 = set(list2)\n",
        "    intersection = list(set1.intersection(set2))\n",
        "    return intersection\n",
        "\n",
        "# Example Usage\n",
        "list1 = [1, 2, 3, 4, 5]\n",
        "list2 = [3, 4, 5, 6, 7]\n",
        "intersection1 = find_intersection(list1, list2)\n",
        "print(f\"Intersection of {list1} and {list2}: {intersection1}\")  # Output: [3, 4, 5]"
      ],
      "metadata": {
        "colab": {
          "base_uri": "https://localhost:8080/"
        },
        "id": "qMHrz0wG870V",
        "outputId": "3d7b1dec-f030-40a6-aa84-7c4e830902d8"
      },
      "execution_count": null,
      "outputs": [
        {
          "output_type": "stream",
          "name": "stdout",
          "text": [
            "Intersection of [1, 2, 3, 4, 5] and [3, 4, 5, 6, 7]: [3, 4, 5]\n"
          ]
        }
      ]
    },
    {
      "cell_type": "markdown",
      "source": [
        "17.\tImplement a code to find and remove duplicates from a list while preserving the original order of elements.\n"
      ],
      "metadata": {
        "id": "PpRqqHER88rw"
      }
    },
    {
      "cell_type": "code",
      "source": [
        "def remove_duplicates_preserve_order(input_list):\n",
        "\n",
        "    if not isinstance(input_list, list):\n",
        "        return []  # Handle non-list input\n",
        "\n",
        "    seen = set()  # Use a set to keep track of seen elements\n",
        "    result_list = []\n",
        "    for item in input_list:\n",
        "        if item not in seen:\n",
        "            seen.add(item)\n",
        "            result_list.append(item)\n",
        "    return result_list\n",
        "\n",
        "# Example Usage\n",
        "my_list = [1, 2, 2, 3, 4, 4, 5, 2, 1]\n",
        "unique_list = remove_duplicates_preserve_order(my_list)\n",
        "print(f\"Original list: {my_list}\")\n",
        "print(f\"List with duplicates removed (order preserved): {unique_list}\")\n",
        "# Expected output: [1, 2, 3, 4, 5]\n"
      ],
      "metadata": {
        "colab": {
          "base_uri": "https://localhost:8080/"
        },
        "id": "rcEr6gxh8_D8",
        "outputId": "6f6a01ed-92c1-418a-9aee-2156e60d927f"
      },
      "execution_count": null,
      "outputs": [
        {
          "output_type": "stream",
          "name": "stdout",
          "text": [
            "Original list: [1, 2, 2, 3, 4, 4, 5, 2, 1]\n",
            "List with duplicates removed (order preserved): [1, 2, 3, 4, 5]\n"
          ]
        }
      ]
    },
    {
      "cell_type": "markdown",
      "source": [
        "18.\tCreate a code to check if a given list is sorted (either in ascending or descending order) or not.\n"
      ],
      "metadata": {
        "id": "AoinxvVl8_1Y"
      }
    },
    {
      "cell_type": "code",
      "source": [
        "def is_sorted(input_list):\n",
        "    if not isinstance(input_list, list):\n",
        "        return False  # Handle non-list input\n",
        "    if not input_list:\n",
        "        return True  # An empty list is considered sorted\n",
        "\n",
        "    # Check for ascending order\n",
        "    is_ascending = all(input_list[i] <= input_list[i+1] for i in range(len(input_list)-1))\n",
        "\n",
        "    # Check for descending order\n",
        "    is_descending = all(input_list[i] >= input_list[i+1] for i in range(len(input_list)-1))\n",
        "\n",
        "    return is_ascending or is_descending\n",
        "\n",
        "# Example Usage\n",
        "list1 = [1, 2, 3, 4, 5]\n",
        "print(f\"{list1} is sorted: {is_sorted(list1)}\")  # Output: True (ascending)\n",
        "\n",
        "list2 = [5, 4, 3, 2, 1]\n",
        "print(f\"{list2} is sorted: {is_sorted(list2)}\")  # Output: True (descending)\n"
      ],
      "metadata": {
        "colab": {
          "base_uri": "https://localhost:8080/"
        },
        "id": "SjI2j8Wr9DYu",
        "outputId": "14832fe1-e3ba-4730-89e2-27f63983b869"
      },
      "execution_count": null,
      "outputs": [
        {
          "output_type": "stream",
          "name": "stdout",
          "text": [
            "[1, 2, 3, 4, 5] is sorted: True\n",
            "[5, 4, 3, 2, 1] is sorted: True\n"
          ]
        }
      ]
    },
    {
      "cell_type": "markdown",
      "source": [
        "19.\tCreate a code to find the union of two lists without duplicates\n"
      ],
      "metadata": {
        "id": "8ewt7T5p9XmG"
      }
    },
    {
      "cell_type": "code",
      "source": [
        "def find_union_no_duplicates(list1, list2):\n",
        "\n",
        "    if not isinstance(list1, list) or not isinstance(list2, list):\n",
        "        return []  # Handle non-list input\n",
        "\n",
        "    set1 = set(list1)\n",
        "    set2 = set(list2)\n",
        "    union_set = set1.union(set2)  # Find the union of the two sets\n",
        "    return list(union_set)  # Convert the set back to a list\n",
        "\n",
        "# Example Usage\n",
        "list1 = [1, 2, 3, 4, 5]\n",
        "list2 = [3, 4, 5, 6, 7]\n",
        "union_list1 = find_union_no_duplicates(list1, list2)\n",
        "print(f\"Union of {list1} and {list2}: {union_list1}\")  # Output: [1, 2, 3, 4, 5, 6, 7]"
      ],
      "metadata": {
        "colab": {
          "base_uri": "https://localhost:8080/"
        },
        "id": "UitK3KQR9pfZ",
        "outputId": "58b40c2e-3968-4d8c-c591-2fe657a8d194"
      },
      "execution_count": null,
      "outputs": [
        {
          "output_type": "stream",
          "name": "stdout",
          "text": [
            "Union of [1, 2, 3, 4, 5] and [3, 4, 5, 6, 7]: [1, 2, 3, 4, 5, 6, 7]\n"
          ]
        }
      ]
    },
    {
      "cell_type": "markdown",
      "source": [
        "20.\tWrite a code to shuffle a given list randomly without using any built-in shuffle functions."
      ],
      "metadata": {
        "id": "bkD7cIpO9b8-"
      }
    },
    {
      "cell_type": "code",
      "source": [
        "import random\n",
        "\n",
        "def shuffle_list(input_list):\n",
        "    if not isinstance(input_list, list):\n",
        "        return  # Handle non-list input\n",
        "\n",
        "    n = len(input_list)\n",
        "    for i in range(n - 1, 0, -1):\n",
        "        # Generate a random index j such that 0 <= j <= i\n",
        "        j = random.randint(0, i)\n",
        "        # Swap input_list[i] with input_list[j]\n",
        "        input_list[i], input_list[j] = input_list[j], input_list[i]\n",
        "\n",
        "# Example Usage\n",
        "my_list = [1, 2, 3, 4, 5]\n",
        "print(\"Original list:\", my_list)\n",
        "shuffle_list(my_list)\n",
        "print(\"Shuffled list:\", my_list)\n"
      ],
      "metadata": {
        "colab": {
          "base_uri": "https://localhost:8080/"
        },
        "id": "IruLW_ySJiXK",
        "outputId": "99afa86d-f969-45cb-dd0d-bebb7b0edbdb"
      },
      "execution_count": null,
      "outputs": [
        {
          "output_type": "stream",
          "name": "stdout",
          "text": [
            "Original list: [1, 2, 3, 4, 5]\n",
            "Shuffled list: [1, 2, 5, 4, 3]\n"
          ]
        }
      ]
    },
    {
      "cell_type": "markdown",
      "source": [
        "21.\tWrite a code that takes two tuples as input and returns a new tuple containing elements that are common to both input tuples"
      ],
      "metadata": {
        "id": "dV4wopqJ9aOh"
      }
    },
    {
      "cell_type": "code",
      "source": [
        "def find_common_elements(tuple1, tuple2):\n",
        "\n",
        "    if not isinstance(tuple1, tuple) or not isinstance(tuple2, tuple):\n",
        "        return ()  # Handle invalid input\n",
        "\n",
        "    # Convert tuples to sets for efficient intersection finding\n",
        "    set1 = set(tuple1)\n",
        "    set2 = set(tuple2)\n",
        "\n",
        "    # Find the intersection of the two sets\n",
        "    common_elements_set = set1.intersection(set2)\n",
        "\n",
        "    # Convert the set of common elements back to a tuple\n",
        "    common_elements_tuple = tuple(common_elements_set)\n",
        "    return common_elements_tuple\n",
        "\n",
        "# Example Usage\n",
        "tuple1 = (1, 2, 3, 4, 5)\n",
        "tuple2 = (3, 4, 5, 6, 7)\n",
        "common_tuple1 = find_common_elements(tuple1, tuple2)\n",
        "print(f\"Common elements in {tuple1} and {tuple2}: {common_tuple1}\")\n"
      ],
      "metadata": {
        "colab": {
          "base_uri": "https://localhost:8080/"
        },
        "id": "INMG58B4KRM8",
        "outputId": "b5b59fd3-84e6-47f3-ffbd-4d640090010f"
      },
      "execution_count": null,
      "outputs": [
        {
          "output_type": "stream",
          "name": "stdout",
          "text": [
            "Common elements in (1, 2, 3, 4, 5) and (3, 4, 5, 6, 7): (3, 4, 5)\n"
          ]
        }
      ]
    },
    {
      "cell_type": "markdown",
      "source": [
        "22.\tCreate a code that prompts the user to enter two sets of integers separated by commas. Then, print the intersection of these two sets."
      ],
      "metadata": {
        "id": "Yij2teQd9Oym"
      }
    },
    {
      "cell_type": "code",
      "source": [
        "def get_integer_set_from_input(prompt):\n",
        "\n",
        "    while True:\n",
        "        input_str = input(prompt)\n",
        "        try:\n",
        "            # Split the input string by commas and convert each part to an integer\n",
        "            integer_list = [int(x.strip()) for x in input_str.split(',')]\n",
        "            return set(integer_list)  # Convert the list to a set\n",
        "        except ValueError:\n",
        "            print(\"Invalid input. Please enter integers separated by commas.\")\n",
        "            # The loop continues until valid input is provided\n",
        "\n",
        "\n",
        "def find_set_intersection(set1, set2):\n",
        "\n",
        "    return set1.intersection(set2)\n",
        "\n",
        "if __name__ == \"__main__\":\n",
        "    # Get the first set of integers from user input\n",
        "    set1 = get_integer_set_from_input(\"Enter the first set of integers, separated by commas: \")\n",
        "    # Get the second set of integers from user input\n",
        "    set2 = get_integer_set_from_input(\"Enter the second set of integers, separated by commas: \")\n",
        "\n",
        "    # Find the intersection of the two sets\n",
        "    intersection_set = find_set_intersection(set1, set2)\n",
        "\n",
        "    # Print the intersection set\n",
        "    print(\"Intersection of the two sets:\", intersection_set)\n"
      ],
      "metadata": {
        "colab": {
          "base_uri": "https://localhost:8080/"
        },
        "id": "bEF0TCJnK0hR",
        "outputId": "04da2871-915c-46e8-f073-a66c13a9ddde"
      },
      "execution_count": null,
      "outputs": [
        {
          "output_type": "stream",
          "name": "stdout",
          "text": [
            "Enter the first set of integers, separated by commas: 1,2,3\n",
            "Enter the second set of integers, separated by commas: 2,3,4\n",
            "Intersection of the two sets: {2, 3}\n"
          ]
        }
      ]
    },
    {
      "cell_type": "markdown",
      "source": [
        "23.\tWrite a code to concatenate two tuples. The function should take two tuples as input and return a new tuple containing elements from both input tuples."
      ],
      "metadata": {
        "id": "FN-xocwlME0_"
      }
    },
    {
      "cell_type": "code",
      "source": [
        "def concatenate_tuples(tuple1, tuple2):\n",
        "\n",
        "    # Use the + operator to concatenate the tuples\n",
        "    concatenated_tuple = tuple1 + tuple2\n",
        "    return concatenated_tuple\n",
        "\n",
        "# Example Usage\n",
        "tuple1 = (1, 2, 3)\n",
        "tuple2 = (4, 5, 6)\n",
        "result_tuple = concatenate_tuples(tuple1, tuple2)\n",
        "print(f\"Concatenation of {tuple1} and {tuple2}: {result_tuple}\")  # Output: (1, 2, 3, 4, 5, 6)\n",
        "\n"
      ],
      "metadata": {
        "colab": {
          "base_uri": "https://localhost:8080/"
        },
        "id": "pUZGXPqbMTA9",
        "outputId": "9f739736-b943-4f03-fe98-6b2789c151a6"
      },
      "execution_count": null,
      "outputs": [
        {
          "output_type": "stream",
          "name": "stdout",
          "text": [
            "Concatenation of (1, 2, 3) and (4, 5, 6): (1, 2, 3, 4, 5, 6)\n"
          ]
        }
      ]
    },
    {
      "cell_type": "markdown",
      "source": [
        "24.\tDevelop a code that prompts the user to input two sets of strings. Then, print the elements that are present in the first set but not in the second set."
      ],
      "metadata": {
        "id": "WOsS4ggOMmV1"
      }
    },
    {
      "cell_type": "code",
      "source": [
        "def get_string_set_from_input(prompt):\n",
        "\n",
        "    while True:\n",
        "        input_str = input(prompt)\n",
        "        # Split the input string by commas.\n",
        "        string_list = [s.strip() for s in input_str.split(',')]\n",
        "        return set(string_list)  # Convert the list to a set\n",
        "\n",
        "def find_set_difference(set1, set2):\n",
        "\n",
        "    return set1.difference(set2)\n",
        "\n",
        "if __name__ == \"__main__\":\n",
        "    # Get the first set of strings from user input\n",
        "    set1 = get_string_set_from_input(\"Enter the first set of strings, separated by commas: \")\n",
        "    # Get the second set of strings from user input\n",
        "    set2 = get_string_set_from_input(\"Enter the second set of strings, separated by commas: \")\n",
        "\n",
        "    # Find the difference of the two sets\n",
        "    difference_set = find_set_difference(set1, set2)\n",
        "\n",
        "    # Print the difference set\n",
        "    print(\"Elements in the first set but not in the second set:\", difference_set)\n"
      ],
      "metadata": {
        "colab": {
          "base_uri": "https://localhost:8080/"
        },
        "id": "llc_jZPQMvAg",
        "outputId": "31d60237-3da3-451f-f1bf-0ac1130a3a45"
      },
      "execution_count": null,
      "outputs": [
        {
          "output_type": "stream",
          "name": "stdout",
          "text": [
            "Enter the first set of strings, separated by commas: abc, def\n",
            "Enter the second set of strings, separated by commas: gft, lop\n",
            "Elements in the first set but not in the second set: {'def', 'abc'}\n"
          ]
        }
      ]
    },
    {
      "cell_type": "markdown",
      "source": [
        "25.\tCreate a code that takes a tuple and two integers as input. The function should return a new tuple containing elements from the original tuple within the specified range of indices."
      ],
      "metadata": {
        "id": "nR8Hi9edN6Xe"
      }
    },
    {
      "cell_type": "code",
      "source": [
        "def get_tuple_range(input_tuple, start_index, end_index):\n",
        "\n",
        "    if not isinstance(input_tuple, tuple):\n",
        "        return ()  # Handle non-tuple input\n",
        "\n",
        "    if not isinstance(start_index, int) or not isinstance(end_index, int):\n",
        "        return () # handle non int index\n",
        "\n",
        "    # Handle invalid index ranges\n",
        "    if start_index < 0:\n",
        "        start_index = 0  # Treat negative start_index as 0\n",
        "    if end_index >= len(input_tuple):\n",
        "        end_index = len(input_tuple) - 1 # Treat end_index exceeding limit as last index\n",
        "\n",
        "    if start_index > end_index:\n",
        "        return ()  # Return empty tuple if start > end\n",
        "\n",
        "    # Use tuple slicing to get the desired range (end_index is inclusive in the fix)\n",
        "    sliced_tuple = input_tuple[start_index:end_index + 1]\n",
        "    return sliced_tuple\n",
        "\n",
        "# Example Usage\n",
        "my_tuple = (1, 2, 3, 4, 5, 6, 7, 8, 9, 10)\n",
        "start_index = 2\n",
        "end_index = 5\n",
        "result_tuple = get_tuple_range(my_tuple, start_index, end_index)\n",
        "print(f\"Original tuple: {my_tuple}\")\n",
        "print(f\"Elements from index {start_index} to {end_index}: {result_tuple}\")\n"
      ],
      "metadata": {
        "colab": {
          "base_uri": "https://localhost:8080/"
        },
        "id": "bx46Nbm8N-nZ",
        "outputId": "7bacd6eb-c687-4355-e37d-aa34a5e1bb62"
      },
      "execution_count": null,
      "outputs": [
        {
          "output_type": "stream",
          "name": "stdout",
          "text": [
            "Original tuple: (1, 2, 3, 4, 5, 6, 7, 8, 9, 10)\n",
            "Elements from index 2 to 5: (3, 4, 5, 6)\n"
          ]
        }
      ]
    },
    {
      "cell_type": "markdown",
      "source": [
        "26.\tWrite a code that prompts the user to input two sets of characters. Then, print the union of these two sets."
      ],
      "metadata": {
        "id": "XZbiM7SGOYrv"
      }
    },
    {
      "cell_type": "code",
      "source": [
        "def get_character_set_from_input(prompt):\n",
        "\n",
        "    while True:\n",
        "        input_str = input(prompt)\n",
        "        # Split the input string by commas and remove leading/trailing spaces\n",
        "        char_list = [char.strip() for char in input_str.split(',')]\n",
        "        #  Check if the input consists of single characters\n",
        "        if all(len(char) == 1 for char in char_list):\n",
        "            return set(char_list)  # Convert the list to a set\n",
        "        else:\n",
        "            print(\"Invalid input.  Please enter single characters separated by commas (e.g., a,b,c).\")\n",
        "\n",
        "def find_set_union(set1, set2):\n",
        "\n",
        "    return set1.union(set2)\n",
        "\n",
        "if __name__ == \"__main__\":\n",
        "    # Get the first set of characters from user input\n",
        "    set1 = get_character_set_from_input(\"Enter the first set of characters, separated by commas: \")\n",
        "    # Get the second set of characters from user input\n",
        "    set2 = get_character_set_from_input(\"Enter the second set of characters, separated by commas: \")\n",
        "\n",
        "    # Find the union of the two sets\n",
        "    union_set = find_set_union(set1, set2)\n",
        "\n",
        "    # Print the union set\n",
        "    print(\"Union of the two sets:\", union_set)\n"
      ],
      "metadata": {
        "colab": {
          "base_uri": "https://localhost:8080/"
        },
        "id": "ephFmvnoOctz",
        "outputId": "0404c794-6f98-4198-cc44-d68845ee23e5"
      },
      "execution_count": null,
      "outputs": [
        {
          "output_type": "stream",
          "name": "stdout",
          "text": [
            "Enter the first set of characters, separated by commas: h,e,l,l,o\n",
            "Enter the second set of characters, separated by commas: w,o,r,l,d\n",
            "Union of the two sets: {'w', 'l', 'e', 'd', 'r', 'o', 'h'}\n"
          ]
        }
      ]
    },
    {
      "cell_type": "markdown",
      "source": [
        "27.\tDevelop a code that takes a tuple of integers as input. The function should return the maximum and minimum values from the tuple using tuple unpacking."
      ],
      "metadata": {
        "id": "oSXOMYasO5FV"
      }
    },
    {
      "cell_type": "code",
      "source": [
        "def find_max_min(input_tuple):\n",
        "\n",
        "    if not isinstance(input_tuple, tuple) or not input_tuple:\n",
        "        return (None, None)  # Handle invalid input\n",
        "\n",
        "    # Use the built-in min() and max() functions\n",
        "    min_val = min(input_tuple)\n",
        "    max_val = max(input_tuple)\n",
        "\n",
        "    # Return the min and max values as a tuple\n",
        "    return max_val, min_val\n",
        "\n",
        "# Example Usage\n",
        "integer_tuple = (3, 1, 4, 1, 5, 9, 2, 6)\n",
        "max_min_tuple = find_max_min(integer_tuple)\n",
        "print(f\"Tuple: {integer_tuple}\")\n",
        "print(f\"Maximum and minimum values: {max_min_tuple}\")\n"
      ],
      "metadata": {
        "colab": {
          "base_uri": "https://localhost:8080/"
        },
        "id": "6YfCi3koO8P-",
        "outputId": "1e7bc1ac-da47-43f1-c653-eae37eaf2ea3"
      },
      "execution_count": null,
      "outputs": [
        {
          "output_type": "stream",
          "name": "stdout",
          "text": [
            "Tuple: (3, 1, 4, 1, 5, 9, 2, 6)\n",
            "Maximum and minimum values: (9, 1)\n"
          ]
        }
      ]
    },
    {
      "cell_type": "markdown",
      "source": [
        "28.\tCreate a code that defines two sets of integers. Then, print the union, intersection, and difference of these two sets."
      ],
      "metadata": {
        "id": "9Q8jJa2RPJZ1"
      }
    },
    {
      "cell_type": "code",
      "source": [
        "def set_operations(set1, set2):\n",
        "\n",
        "    if not isinstance(set1, set) or not isinstance(set2, set):\n",
        "        return (None, None, None)  # Handle invalid input\n",
        "\n",
        "    union_set = set1.union(set2)\n",
        "    intersection_set = set1.intersection(set2)\n",
        "    difference_set = set1.difference(set2)\n",
        "\n",
        "    return union_set, intersection_set, difference_set\n",
        "\n",
        "# Example Usage\n",
        "set1 = {1, 2, 3, 4, 5}\n",
        "set2 = {3, 4, 5, 6, 7}\n",
        "\n",
        "union_set, intersection_set, difference_set = set_operations(set1, set2)\n",
        "\n",
        "print(f\"Set 1: {set1}\")\n",
        "print(f\"Set 2: {set2}\")\n",
        "print(f\"Union: {union_set}\")\n",
        "print(f\"Intersection: {intersection_set}\")\n",
        "print(f\"Difference (set1 - set2): {difference_set}\")"
      ],
      "metadata": {
        "colab": {
          "base_uri": "https://localhost:8080/"
        },
        "id": "h_a5YEFtPRn2",
        "outputId": "b6177561-eb33-4753-c325-603b78e22484"
      },
      "execution_count": null,
      "outputs": [
        {
          "output_type": "stream",
          "name": "stdout",
          "text": [
            "Set 1: {1, 2, 3, 4, 5}\n",
            "Set 2: {3, 4, 5, 6, 7}\n",
            "Union: {1, 2, 3, 4, 5, 6, 7}\n",
            "Intersection: {3, 4, 5}\n",
            "Difference (set1 - set2): {1, 2}\n"
          ]
        }
      ]
    },
    {
      "cell_type": "markdown",
      "source": [
        "29.\tWrite a code that takes a tuple and an element as input. The function should return the count of occurrences of the given element in the tuple"
      ],
      "metadata": {
        "id": "9YDNZZ7FPg-W"
      }
    },
    {
      "cell_type": "code",
      "source": [
        "def count_element_occurrences(input_tuple, element_to_count):\n",
        "\n",
        "    if not isinstance(input_tuple, tuple):\n",
        "        return 0  # Handle non-tuple input\n",
        "\n",
        "    count = input_tuple.count(element_to_count)\n",
        "    return count\n",
        "\n",
        "# Example Usage\n",
        "my_tuple = (1, 2, 3, 2, 4, 2, 5)\n",
        "element_to_count = 2\n",
        "occurrences = count_element_occurrences(my_tuple, element_to_count)\n",
        "print(f\"Tuple: {my_tuple}\")\n",
        "print(f\"Element {element_to_count} occurs {occurrences} times.\")\n",
        "\n"
      ],
      "metadata": {
        "colab": {
          "base_uri": "https://localhost:8080/"
        },
        "id": "qZFNvlt0Pjup",
        "outputId": "c539a658-e3d2-4105-d1da-23c9284dba0b"
      },
      "execution_count": null,
      "outputs": [
        {
          "output_type": "stream",
          "name": "stdout",
          "text": [
            "Tuple: (1, 2, 3, 2, 4, 2, 5)\n",
            "Element 2 occurs 3 times.\n"
          ]
        }
      ]
    },
    {
      "cell_type": "markdown",
      "source": [
        "30.\tDevelop a code that prompts the user to input two sets of strings. Then, print the symmetric difference of these two sets."
      ],
      "metadata": {
        "id": "c2DrKkY1ObdF"
      }
    },
    {
      "cell_type": "code",
      "source": [
        "def get_string_set_from_input(prompt):\n",
        "\n",
        "    while True:\n",
        "        input_str = input(prompt)\n",
        "        # Split the input string by commas.\n",
        "        string_list = [s.strip() for s in input_str.split(',')]\n",
        "        return set(string_list)  # Convert the list to a set\n",
        "\n",
        "def find_set_symmetric_difference(set1, set2):\n",
        "\n",
        "    return set1.symmetric_difference(set2)\n",
        "\n",
        "if __name__ == \"__main__\":\n",
        "    # Get the first set of strings from user input\n",
        "    set1 = get_string_set_from_input(\"Enter the first set of strings, separated by commas: \")\n",
        "    # Get the second set of strings from user input\n",
        "    set2 = get_string_set_from_input(\"Enter the second set of strings, separated by commas: \")\n",
        "\n",
        "    # Find the symmetric difference of the two sets\n",
        "    symmetric_difference_set = find_set_symmetric_difference(set1, set2)\n",
        "\n",
        "    # Print the symmetric difference set\n",
        "    print(\"Symmetric difference of the two sets:\", symmetric_difference_set)\n"
      ],
      "metadata": {
        "colab": {
          "base_uri": "https://localhost:8080/"
        },
        "id": "laEzd8ckP2nw",
        "outputId": "db3239df-6974-4dd2-e9ff-05ea10e3722c"
      },
      "execution_count": null,
      "outputs": [
        {
          "output_type": "stream",
          "name": "stdout",
          "text": [
            "Enter the first set of strings, separated by commas: set, goal\n",
            "Enter the second set of strings, separated by commas: set, aim\n",
            "Symmetric difference of the two sets: {'goal', 'aim'}\n"
          ]
        }
      ]
    },
    {
      "cell_type": "markdown",
      "source": [
        "31.\tWrite a code that takes a list of words as input and returns a dictionary where the keys are unique words and the values are the frequencies of those words in the input list."
      ],
      "metadata": {
        "id": "T9eXaH9qQVKC"
      }
    },
    {
      "cell_type": "code",
      "source": [
        "def count_word_frequencies(word_list):\n",
        "\n",
        "    if not isinstance(word_list, list):\n",
        "        return {}  # Handle non-list input\n",
        "\n",
        "    if not word_list:\n",
        "        return {} # Handle empty list\n",
        "\n",
        "    word_counts = {}\n",
        "    for word in word_list:\n",
        "        # Remove leading/trailing punctuation and convert to lowercase for accurate counting\n",
        "        cleaned_word = ''.join(char.lower() for char in word if char.isalnum())\n",
        "        if cleaned_word: # only count if the word is not empty after cleaning\n",
        "            if cleaned_word in word_counts:\n",
        "                word_counts[cleaned_word] += 1\n",
        "            else:\n",
        "                word_counts[cleaned_word] = 1\n",
        "    return word_counts\n",
        "\n",
        "# Example Usage\n",
        "word_list1 = [\"apple\", \"banana\", \"apple\", \"cherry\", \"banana\", \"apple\"]\n",
        "word_counts1 = count_word_frequencies(word_list1)\n",
        "print(f\"Word frequencies in {word_list1}: {word_counts1}\")\n"
      ],
      "metadata": {
        "colab": {
          "base_uri": "https://localhost:8080/"
        },
        "id": "Uv2tlml1QY-4",
        "outputId": "da0ba4cc-3319-42a9-c8f3-ca6f6e317bcb"
      },
      "execution_count": null,
      "outputs": [
        {
          "output_type": "stream",
          "name": "stdout",
          "text": [
            "Word frequencies in ['apple', 'banana', 'apple', 'cherry', 'banana', 'apple']: {'apple': 3, 'banana': 2, 'cherry': 1}\n"
          ]
        }
      ]
    },
    {
      "cell_type": "markdown",
      "source": [
        "32.\tWrite a code that takes two dictionaries as input and merges them into a single dictionary. If there are common keys, the values should be added together."
      ],
      "metadata": {
        "id": "gSjmYo_sQpOo"
      }
    },
    {
      "cell_type": "code",
      "source": [
        "def merge_dictionaries(dict1, dict2):\n",
        "\n",
        "    if not isinstance(dict1, dict) or not isinstance(dict2, dict):\n",
        "        return {}  # Handle invalid input\n",
        "\n",
        "    merged_dict = dict1.copy()  # Start with a copy of the first dictionary\n",
        "\n",
        "    for key, value in dict2.items():\n",
        "        if key in merged_dict:\n",
        "            # If the key exists in both dictionaries, add the values\n",
        "            merged_dict[key] += value\n",
        "        else:\n",
        "            # Otherwise, add the key-value pair from dict2 to the merged dictionary\n",
        "            merged_dict[key] = value\n",
        "\n",
        "    return merged_dict\n",
        "\n",
        "# Example Usage\n",
        "dict1 = {'a': 1, 'b': 2, 'c': 3}\n",
        "dict2 = {'b': 3, 'c': 4, 'd': 5}\n",
        "merged_dict1 = merge_dictionaries(dict1, dict2)\n",
        "print(f\"Merging {dict1} and {dict2}: {merged_dict1}\")\n",
        "# Expected output: {'a': 1, 'b': 5, 'c': 7, 'd': 5}"
      ],
      "metadata": {
        "colab": {
          "base_uri": "https://localhost:8080/"
        },
        "id": "jbLT9TCBQsMw",
        "outputId": "f7f8d404-7cd2-49f4-f8b5-57113310b744"
      },
      "execution_count": null,
      "outputs": [
        {
          "output_type": "stream",
          "name": "stdout",
          "text": [
            "Merging {'a': 1, 'b': 2, 'c': 3} and {'b': 3, 'c': 4, 'd': 5}: {'a': 1, 'b': 5, 'c': 7, 'd': 5}\n"
          ]
        }
      ]
    },
    {
      "cell_type": "markdown",
      "source": [
        "33.\tWrite a code to access a value in a nested dictionary. The function should take the dictionary and a list of keys as input, and return the corresponding value. If any of the keys do not exist in the dictionary, the function should return None."
      ],
      "metadata": {
        "id": "XgQzAgaZQ5TP"
      }
    },
    {
      "cell_type": "code",
      "source": [
        "def get_nested_value(nested_dict, key_list):\n",
        "\n",
        "    if not isinstance(nested_dict, dict):\n",
        "        return None  # Handle non-dictionary input\n",
        "\n",
        "    current_level = nested_dict\n",
        "    for key in key_list:\n",
        "        if isinstance(current_level, dict) and key in current_level:\n",
        "            current_level = current_level[key]\n",
        "        else:\n",
        "            return None  # Key not found at this level\n",
        "    return current_level\n",
        "\n",
        "# Example Usage\n",
        "my_dict = {\n",
        "    'a': 1,\n",
        "    'b': {'c': 2, 'd': {'e': 3}},\n",
        "    'f': 4\n",
        "}\n",
        "\n",
        "key_list1 = ['b', 'd', 'e']\n",
        "value1 = get_nested_value(my_dict, key_list1)\n",
        "print(f\"Value for keys {key_list1}: {value1}\")  # Output: 3\n"
      ],
      "metadata": {
        "colab": {
          "base_uri": "https://localhost:8080/"
        },
        "id": "n-kPuj8NQ-Rf",
        "outputId": "785380b4-1214-45d7-8a2c-1c3dfbb811d8"
      },
      "execution_count": null,
      "outputs": [
        {
          "output_type": "stream",
          "name": "stdout",
          "text": [
            "Value for keys ['b', 'd', 'e']: 3\n"
          ]
        }
      ]
    },
    {
      "cell_type": "markdown",
      "source": [
        "34.\tWrite a code that takes a dictionary as input and returns a sorted version of it based on the values. You can choose whether to sort in ascending or descending order."
      ],
      "metadata": {
        "id": "SiJmnz8_RPnS"
      }
    },
    {
      "cell_type": "code",
      "source": [
        "def sort_dict_by_value(input_dict, ascending=True):\n",
        "\n",
        "    if not isinstance(input_dict, dict):\n",
        "        return {}  # Handle non-dictionary input\n",
        "\n",
        "    # Sort the dictionary items (key-value pairs) based on the values\n",
        "    sorted_items = sorted(input_dict.items(), key=lambda item: item[1], reverse=not ascending)\n",
        "\n",
        "    # Create a new dictionary from the sorted items to preserve order\n",
        "    sorted_dict = dict(sorted_items)\n",
        "    return sorted_dict\n",
        "\n",
        "# Example Usage\n",
        "my_dict = {'a': 10, 'b': 5, 'c': 20, 'd': 15}\n",
        "\n",
        "# Sort in ascending order (default)\n",
        "sorted_dict_asc = sort_dict_by_value(my_dict)\n",
        "print(f\"Original dictionary: {my_dict}\")\n",
        "print(f\"Sorted by value (ascending): {sorted_dict_asc}\")\n",
        "\n",
        "# Sort in descending order\n",
        "sorted_dict_desc = sort_dict_by_value(my_dict, ascending=False)\n",
        "print(f\"Sorted by value (descending): {sorted_dict_desc}\")"
      ],
      "metadata": {
        "colab": {
          "base_uri": "https://localhost:8080/"
        },
        "id": "o2KOGiwYRUaU",
        "outputId": "8eb6831d-c9c6-4634-9ce4-b212e1cf4f00"
      },
      "execution_count": null,
      "outputs": [
        {
          "output_type": "stream",
          "name": "stdout",
          "text": [
            "Original dictionary: {'a': 10, 'b': 5, 'c': 20, 'd': 15}\n",
            "Sorted by value (ascending): {'b': 5, 'a': 10, 'd': 15, 'c': 20}\n",
            "Sorted by value (descending): {'c': 20, 'd': 15, 'a': 10, 'b': 5}\n"
          ]
        }
      ]
    },
    {
      "cell_type": "markdown",
      "source": [
        "35.\tWrite a code that inverts a dictionary, swapping keys and values. Ensure that the inverted dictionary correctly handles cases where multiple keys have the same value by storing the keys as a list in the inverted dictionary."
      ],
      "metadata": {
        "id": "3LmZHJfvRS9V"
      }
    },
    {
      "cell_type": "code",
      "source": [
        "def invert_dictionary(input_dict):\n",
        "\n",
        "    if not isinstance(input_dict, dict):\n",
        "        return {}  # Handle non-dictionary input\n",
        "\n",
        "    inverted_dict = {}\n",
        "    for key, value in input_dict.items():\n",
        "        if value in inverted_dict:\n",
        "            inverted_dict[value].append(key)\n",
        "        else:\n",
        "            inverted_dict[value] = [key]\n",
        "    return inverted_dict\n",
        "\n",
        "# Example Usage\n",
        "my_dict = {'a': 1, 'b': 2, 'c': 1, 'd': 3, 'e': 2}\n",
        "inverted_dict1 = invert_dictionary(my_dict)\n",
        "print(f\"Original dictionary: {my_dict}\")\n",
        "print(f\"Inverted dictionary: {inverted_dict1}\")\n",
        "# Expected output: {1: ['a', 'c'], 2: ['b', 'e'], 3: ['d']}"
      ],
      "metadata": {
        "colab": {
          "base_uri": "https://localhost:8080/"
        },
        "id": "aJbJYKh8RpoD",
        "outputId": "56675467-594e-47fd-c99a-ca657c4248fd"
      },
      "execution_count": null,
      "outputs": [
        {
          "output_type": "stream",
          "name": "stdout",
          "text": [
            "Original dictionary: {'a': 1, 'b': 2, 'c': 1, 'd': 3, 'e': 2}\n",
            "Inverted dictionary: {1: ['a', 'c'], 2: ['b', 'e'], 3: ['d']}\n"
          ]
        }
      ]
    }
  ]
}
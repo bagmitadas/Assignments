{
  "nbformat": 4,
  "nbformat_minor": 0,
  "metadata": {
    "colab": {
      "provenance": [],
      "authorship_tag": "ABX9TyMSyKLRHhoeTpUPyA6CCJ4W",
      "include_colab_link": true
    },
    "kernelspec": {
      "name": "python3",
      "display_name": "Python 3"
    },
    "language_info": {
      "name": "python"
    }
  },
  "cells": [
    {
      "cell_type": "markdown",
      "metadata": {
        "id": "view-in-github",
        "colab_type": "text"
      },
      "source": [
        "<a href=\"https://colab.research.google.com/github/bagmitadas/Assignments/blob/main/OOPS.ipynb\" target=\"_parent\"><img src=\"https://colab.research.google.com/assets/colab-badge.svg\" alt=\"Open In Colab\"/></a>"
      ]
    },
    {
      "cell_type": "markdown",
      "source": [
        "1. What are the five key concepts of Object-Oriented Programming (OOP)?\n",
        "\n",
        "Answer: The five key concepts OF OOP are:\n",
        "1.\tEncapsulation: Bundling data (attributes) and methods (functions) that operate on the data into a single unit (class), while restricting access to some components.\n",
        "2.\tInheritance: A mechanism where a new class (child) inherits attributes and methods from an existing class (parent). Promotes code reuse.\n",
        "3.\tPolymorphism: The ability of objects to take on many forms, allowing methods to behave differently based on the object calling them (e.g., method overriding/overloading).\n",
        "4.\tAbstraction: Hiding complex implementation details and exposing only essential features (e.g., abstract classes/interfaces).\n",
        "5.\tClass and Objects: A class is a blueprint, while an object is an instance of a class.\n"
      ],
      "metadata": {
        "id": "N0ybpZY0nfa0"
      }
    },
    {
      "cell_type": "markdown",
      "source": [
        "2. Write a Python class for a Car with attributes for make, model, and year. Include a method to display the car’s information."
      ],
      "metadata": {
        "id": "3OEq1k3ZoISi"
      }
    },
    {
      "cell_type": "code",
      "source": [
        "class Car:\n",
        "    def __init__(self, make, model, year):\n",
        "        self.make = make\n",
        "        self.model = model\n",
        "        self.year = year\n",
        "\n",
        "    def display_info(self):\n",
        "        print(f\"Make: {self.make}, Model: {self.model}, Year: {self.year}\")\n",
        "\n",
        "# Example usage\n",
        "my_car = Car(\"Toyota\", \"Corolla\", 2022)\n",
        "my_car.display_info()  # Output: Make: Toyota, Model: Corolla, Year: 2022\n"
      ],
      "metadata": {
        "colab": {
          "base_uri": "https://localhost:8080/"
        },
        "id": "Ue9VrAGRoJwx",
        "outputId": "881e213b-6f16-4afe-f3b8-0a327c5d1cc8"
      },
      "execution_count": null,
      "outputs": [
        {
          "output_type": "stream",
          "name": "stdout",
          "text": [
            "Make: Toyota, Model: Corolla, Year: 2022\n"
          ]
        }
      ]
    },
    {
      "cell_type": "markdown",
      "source": [
        "3. Explain the difference between instance methods and class methods. Provide an example of each.\n",
        "\n",
        "Answer.\n",
        "Instance Methods operate on instance-level data, take self as the first parameter. Whereas, class methods operate on the class itself, take cls as the first parameter, and use the @classmethod decorator."
      ],
      "metadata": {
        "id": "PzjfOYIUoY4-"
      }
    },
    {
      "cell_type": "code",
      "source": [
        "#Example Instance Method\n",
        "class MyClass:\n",
        "    def instance_method(self):\n",
        "        return \"This is an instance method.\"\n",
        "\n",
        "#Example Class Method\n",
        "class MyClass:\n",
        "    @classmethod\n",
        "    def class_method(cls):\n",
        "        return \"This is a class method.\"\n"
      ],
      "metadata": {
        "id": "J_G-0fNynl9y"
      },
      "execution_count": null,
      "outputs": []
    },
    {
      "cell_type": "markdown",
      "source": [
        "4. How does Python implement method overloading? Give an example.\n",
        "\n",
        "Answer.\n",
        "\n",
        "Python does not support traditional method overloading (same method name, different parameters). Instead, it uses default arguments or variable-length arguments (*args, **kwargs)."
      ],
      "metadata": {
        "id": "l6PLz8Rkp2ab"
      }
    },
    {
      "cell_type": "code",
      "source": [
        "#Example\n",
        "class Calculator:\n",
        "    def add(self, a, b, c=0):  # Default argument for overloading\n",
        "        return a + b + c\n",
        "\n",
        "calc = Calculator()\n",
        "print(calc.add(1, 2))       # Output: 3\n",
        "print(calc.add(1, 2, 3))    # Output: 6\n"
      ],
      "metadata": {
        "colab": {
          "base_uri": "https://localhost:8080/"
        },
        "id": "iX3Vh9MSqH_D",
        "outputId": "60bad049-63d3-4cfa-8d10-a59a62c353ee"
      },
      "execution_count": null,
      "outputs": [
        {
          "output_type": "stream",
          "name": "stdout",
          "text": [
            "3\n",
            "6\n"
          ]
        }
      ]
    },
    {
      "cell_type": "markdown",
      "source": [
        "5. What are the three types of access modifiers in Python? How are they denoted?\n",
        "\n",
        "Answer.\n",
        "\n",
        "Python uses naming conventions (not strict enforcement) for access modifiers:\n",
        "1.\tPublic: No prefix (e.g., variable).\n",
        "2.\tProtected: Single underscore _variable (indicating internal use).\n",
        "3.\tPrivate: Double underscore __variable (name mangling makes it harder to access).\n"
      ],
      "metadata": {
        "id": "EVpFLZZOqQP_"
      }
    },
    {
      "cell_type": "markdown",
      "source": [
        "6. Describe the five types of inheritance in Python. Provide a simple example of multiple inheritance.\n",
        "\n",
        "Answer.\n",
        "Types of inheritance:\n",
        "1.\tSingle: One child class inherits from one parent.\n",
        "2.\tMultiple: One child inherits from multiple parents.\n",
        "3.\tMultilevel: Chain of inheritance (e.g., A → B → C).\n",
        "4.\tHierarchical: Multiple children inherit from one parent.\n",
        "5.\tHybrid: Combination of multiple inheritance types."
      ],
      "metadata": {
        "id": "XnxP4Me0qa9H"
      }
    },
    {
      "cell_type": "code",
      "source": [
        "# Multiple Inheritance Example:\n",
        "class Father:\n",
        "    def skills(self):\n",
        "        return \"Gardening\"\n",
        "\n",
        "class Mother:\n",
        "    def skills(self):\n",
        "        return \"Cooking\"\n",
        "\n",
        "class Child(Father, Mother):\n",
        "    pass\n",
        "\n",
        "child = Child()\n",
        "print(child.skills())  # Output: Gardening (due to MRO)\n"
      ],
      "metadata": {
        "colab": {
          "base_uri": "https://localhost:8080/"
        },
        "id": "1h0n7NZ0qpXm",
        "outputId": "e7c544dc-d4c9-49ca-c7bd-487fbe94409a"
      },
      "execution_count": null,
      "outputs": [
        {
          "output_type": "stream",
          "name": "stdout",
          "text": [
            "Gardening\n"
          ]
        }
      ]
    },
    {
      "cell_type": "markdown",
      "source": [
        "7. What is the Method Resolution Order (MRO) in Python? How can you retrieve it programmatically?\n",
        "\n",
        "Answer.\n",
        "\n",
        "the Method Resolution Order! It's a fundamental concept in Python's object-oriented programming that determines the order in which Python looks for a method in a class hierarchy. Think of it as a well-defined path Python follows when you call a method on an object.\n",
        "\n",
        "When you have a class that inherits from multiple parent classes, there might be methods with the same name in different parent classes. The MRO ensures that Python knows exactly which method to execute. It follows a specific algorithm to create this order, primarily using the C3 linearization algorithm for modern Python versions.\n",
        "\n",
        "We can retrieve the Method Resolution Order programmatically in Python using a couple of ways:\n",
        "\n",
        " Using the __mro__ attribute: Every class in Python has a special attribute called __mro__ (dunder mro). This attribute is a tuple containing the class itself and its base classes in the order they are searched for method resolution. The  output shows that when you call a method on an instance of C, Python will first look in C itself, then in A, then in B, and finally in the base object class.\n"
      ],
      "metadata": {
        "id": "BhQ7FZFAq5TM"
      }
    },
    {
      "cell_type": "code",
      "source": [
        "class A:\n",
        "    def greet(self):\n",
        "        print(\"Hello from A\")\n",
        "\n",
        "class B:\n",
        "    def greet(self):\n",
        "        print(\"Hello from B\")\n",
        "\n",
        "class C(A, B):\n",
        "    pass\n",
        "\n",
        "print(C.__mro__)"
      ],
      "metadata": {
        "id": "G1c0FM71rpmt",
        "colab": {
          "base_uri": "https://localhost:8080/"
        },
        "outputId": "d12ffd71-47bb-4bd4-fbe4-332cac64ad02"
      },
      "execution_count": 1,
      "outputs": [
        {
          "output_type": "stream",
          "name": "stdout",
          "text": [
            "(<class '__main__.C'>, <class '__main__.A'>, <class '__main__.B'>, <class 'object'>)\n"
          ]
        }
      ]
    },
    {
      "cell_type": "markdown",
      "source": [
        "Using the mro() method: The built-in type() function (when called with a class as an argument) has an mro() method that returns a list representing the Method Resolution Order. This will produce a similar output, but as a list:\n",
        "\n",
        "[<class '__main__.C'>, <class '__main__.A'>, <class '__main__.B'>, <class 'object'>]\n",
        "\n",
        "Both __mro__ and mro() provide the same information, just in different data structures (tuple vs. list). They are incredibly useful for understanding how Python resolves method calls in complex inheritance hierarchies and for debugging potential issues related to method overriding."
      ],
      "metadata": {
        "id": "KyDuzb3o8JnE"
      }
    },
    {
      "cell_type": "code",
      "source": [
        "class A:\n",
        "    def greet(self):\n",
        "        print(\"Hello from A\")\n",
        "\n",
        "class B:\n",
        "    def greet(self):\n",
        "        print(\"Hello from B\")\n",
        "\n",
        "class C(A, B):\n",
        "    pass\n",
        "\n",
        "print(C.mro())"
      ],
      "metadata": {
        "colab": {
          "base_uri": "https://localhost:8080/"
        },
        "id": "d0s4NVtJ8TVs",
        "outputId": "06b24b97-0dd4-48b1-cd38-36aa72e63cf5"
      },
      "execution_count": 2,
      "outputs": [
        {
          "output_type": "stream",
          "name": "stdout",
          "text": [
            "[<class '__main__.C'>, <class '__main__.A'>, <class '__main__.B'>, <class 'object'>]\n"
          ]
        }
      ]
    },
    {
      "cell_type": "markdown",
      "source": [
        "8. Create an abstract base class Shape with an abstract method area(). Then create two subclasses Circle and Rectangle.\n"
      ],
      "metadata": {
        "id": "TTpN8dUg8086"
      }
    },
    {
      "cell_type": "code",
      "source": [
        "from abc import ABC, abstractmethod\n",
        "import math\n",
        "\n",
        "class Shape(ABC):\n",
        "    \"\"\"\n",
        "    An abstract base class for geometric shapes.\n",
        "    \"\"\"\n",
        "    @abstractmethod\n",
        "    def area(self):\n",
        "        \"\"\"\n",
        "        Abstract method to calculate the area of the shape.\n",
        "        Subclasses must implement this method.\n",
        "        \"\"\"\n",
        "        pass\n",
        "\n",
        "class Circle(Shape):\n",
        "    \"\"\"\n",
        "    A concrete subclass representing a circle.\n",
        "    \"\"\"\n",
        "    def __init__(self, radius):\n",
        "        \"\"\"\n",
        "        Initializes a Circle object with a given radius.\n",
        "        \"\"\"\n",
        "        self.radius = radius\n",
        "\n",
        "    def area(self):\n",
        "        \"\"\"\n",
        "        Calculates the area of the circle.\n",
        "        \"\"\"\n",
        "        return math.pi * self.radius**2\n",
        "\n",
        "class Rectangle(Shape):\n",
        "    \"\"\"\n",
        "    A concrete subclass representing a rectangle.\n",
        "    \"\"\"\n",
        "    def __init__(self, length, width):\n",
        "        \"\"\"\n",
        "        Initializes a Rectangle object with given length and width.\n",
        "        \"\"\"\n",
        "        self.length = length\n",
        "        self.width = width\n",
        "\n",
        "    def area(self):\n",
        "        \"\"\"\n",
        "        Calculates the area of the rectangle.\n",
        "        \"\"\"\n",
        "        return self.length * self.width\n",
        "\n",
        "# Example usage:\n",
        "if __name__ == \"__main__\":\n",
        "    circle = Circle(5)\n",
        "    rectangle = Rectangle(4, 6)\n",
        "\n",
        "    print(f\"Area of the circle: {circle.area():.2f}\")\n",
        "    print(f\"Area of the rectangle: {rectangle.area()}\")\n",
        "\n",
        "    # Trying to instantiate the abstract base class will raise a TypeError\n",
        "    # try:\n",
        "    #     shape = Shape()\n",
        "    # except TypeError as e:\n",
        "    #     print(f\"Error: {e}\")"
      ],
      "metadata": {
        "colab": {
          "base_uri": "https://localhost:8080/"
        },
        "id": "3Hu49EX19HZ2",
        "outputId": "9af368c8-b47e-4845-d619-1c887aedeb86"
      },
      "execution_count": 3,
      "outputs": [
        {
          "output_type": "stream",
          "name": "stdout",
          "text": [
            "Area of the circle: 78.54\n",
            "Area of the rectangle: 24\n"
          ]
        }
      ]
    },
    {
      "cell_type": "markdown",
      "source": [
        "9. Demonstrate polymorphism by creating a function that works with different shape objects."
      ],
      "metadata": {
        "id": "gWwcXJki9ZPs"
      }
    },
    {
      "cell_type": "code",
      "source": [
        "from abc import ABC, abstractmethod\n",
        "import math\n",
        "\n",
        "class Shape(ABC):\n",
        "    \"\"\"\n",
        "    An abstract base class for geometric shapes.\n",
        "    \"\"\"\n",
        "    @abstractmethod\n",
        "    def area(self):\n",
        "        \"\"\"\n",
        "        Abstract method to calculate the area of the shape.\n",
        "        Subclasses must implement this method.\n",
        "        \"\"\"\n",
        "        pass\n",
        "\n",
        "    @abstractmethod\n",
        "    def describe(self):\n",
        "        \"\"\"\n",
        "        Abstract method to describe the shape.\n",
        "        Subclasses must implement this method.\n",
        "        \"\"\"\n",
        "        pass\n",
        "\n",
        "class Circle(Shape):\n",
        "    \"\"\"\n",
        "    A concrete subclass representing a circle.\n",
        "    \"\"\"\n",
        "    def __init__(self, radius):\n",
        "        \"\"\"\n",
        "        Initializes a Circle object with a given radius.\n",
        "        \"\"\"\n",
        "        self.radius = radius\n",
        "\n",
        "    def area(self):\n",
        "        \"\"\"\n",
        "        Calculates the area of the circle.\n",
        "        \"\"\"\n",
        "        return math.pi * self.radius**2\n",
        "\n",
        "    def describe(self):\n",
        "        \"\"\"\n",
        "        Describes the circle.\n",
        "        \"\"\"\n",
        "        return f\"This is a circle with radius {self.radius:.2f}.\"\n",
        "\n",
        "class Rectangle(Shape):\n",
        "    \"\"\"\n",
        "    A concrete subclass representing a rectangle.\n",
        "    \"\"\"\n",
        "    def __init__(self, length, width):\n",
        "        \"\"\"\n",
        "        Initializes a Rectangle object with given length and width.\n",
        "        \"\"\"\n",
        "        self.length = length\n",
        "        self.width = width\n",
        "\n",
        "    def area(self):\n",
        "        \"\"\"\n",
        "        Calculates the area of the rectangle.\n",
        "        \"\"\"\n",
        "        return self.length * self.width\n",
        "\n",
        "    def describe(self):\n",
        "        \"\"\"\n",
        "        Describes the rectangle.\n",
        "        \"\"\"\n",
        "        return f\"This is a rectangle with length {self.length:.2f} and width {self.width:.2f}.\"\n",
        "\n",
        "def print_shape_info(shape):\n",
        "    \"\"\"\n",
        "    A polymorphic function that works with different Shape objects.\n",
        "    It prints the description and area of the given shape.\n",
        "    \"\"\"\n",
        "    print(shape.describe())\n",
        "    print(f\"Area: {shape.area():.2f}\")\n",
        "    print(\"-\" * 20)\n",
        "\n",
        "# Example demonstrating polymorphism:\n",
        "if __name__ == \"__main__\":\n",
        "    circle = Circle(7)\n",
        "    rectangle = Rectangle(5, 8)\n",
        "\n",
        "    print_shape_info(circle)\n",
        "    print_shape_info(rectangle)\n",
        "\n",
        "    # We can also create a list of different shape objects and process them uniformly\n",
        "    shapes = [Circle(3), Rectangle(10, 4), Circle(6.5)]\n",
        "    for sh in shapes:\n",
        "        print_shape_info(sh)"
      ],
      "metadata": {
        "colab": {
          "base_uri": "https://localhost:8080/"
        },
        "id": "6Qz090IP9ghD",
        "outputId": "c1f7e286-934a-4065-cfc2-a3083d026f45"
      },
      "execution_count": 4,
      "outputs": [
        {
          "output_type": "stream",
          "name": "stdout",
          "text": [
            "This is a circle with radius 7.00.\n",
            "Area: 153.94\n",
            "--------------------\n",
            "This is a rectangle with length 5.00 and width 8.00.\n",
            "Area: 40.00\n",
            "--------------------\n",
            "This is a circle with radius 3.00.\n",
            "Area: 28.27\n",
            "--------------------\n",
            "This is a rectangle with length 10.00 and width 4.00.\n",
            "Area: 40.00\n",
            "--------------------\n",
            "This is a circle with radius 6.50.\n",
            "Area: 132.73\n",
            "--------------------\n"
          ]
        }
      ]
    },
    {
      "cell_type": "markdown",
      "source": [
        "10. Implement encapsulation in a BankAccount class with private attributes."
      ],
      "metadata": {
        "id": "iOGT2sAa9pKH"
      }
    },
    {
      "cell_type": "code",
      "source": [
        "class BankAccount:\n",
        "    \"\"\"\n",
        "    A class representing a bank account with private attributes.\n",
        "    \"\"\"\n",
        "    def __init__(self, account_number, initial_balance=0):\n",
        "        \"\"\"\n",
        "        Initializes a BankAccount object.\n",
        "\n",
        "        Args:\n",
        "            account_number (str): The unique account number.\n",
        "            initial_balance (float, optional): The initial balance of the account. Defaults to 0.\n",
        "        \"\"\"\n",
        "        self.__account_number = account_number  # Private attribute (name mangling)\n",
        "        self.__balance = initial_balance      # Private attribute (name mangling)\n",
        "\n",
        "    def deposit(self, amount):\n",
        "        \"\"\"\n",
        "        Deposits a positive amount into the account.\n",
        "\n",
        "        Args:\n",
        "            amount (float): The amount to deposit.\n",
        "\n",
        "        Raises:\n",
        "            ValueError: If the amount is not positive.\n",
        "        \"\"\"\n",
        "        if amount > 0:\n",
        "            self.__balance += amount\n",
        "            print(f\"Deposited ₹{amount:.2f}. New balance: ₹{self.__balance:.2f}\")\n",
        "        else:\n",
        "            raise ValueError(\"Deposit amount must be positive.\")\n",
        "\n",
        "    def withdraw(self, amount):\n",
        "        \"\"\"\n",
        "        Withdraws a positive amount from the account if sufficient balance is available.\n",
        "\n",
        "        Args:\n",
        "            amount (float): The amount to withdraw.\n",
        "\n",
        "        Raises:\n",
        "            ValueError: If the amount is not positive or if there is insufficient balance.\n",
        "        \"\"\"\n",
        "        if amount > 0:\n",
        "            if amount <= self.__balance:\n",
        "                self.__balance -= amount\n",
        "                print(f\"Withdrew ₹{amount:.2f}. New balance: ₹{self.__balance:.2f}\")\n",
        "            else:\n",
        "                raise ValueError(\"Insufficient balance.\")\n",
        "        else:\n",
        "            raise ValueError(\"Withdrawal amount must be positive.\")\n",
        "\n",
        "    def get_balance(self):\n",
        "        \"\"\"\n",
        "        Returns the current balance of the account.\n",
        "        \"\"\"\n",
        "        return self.__balance\n",
        "\n",
        "    def get_account_number(self):\n",
        "        \"\"\"\n",
        "        Returns the account number (read-only access).\n",
        "        \"\"\"\n",
        "        return self.__account_number\n",
        "\n",
        "    def _display_account_info(self):\n",
        "        \"\"\"\n",
        "        A protected method to display account information (for internal use or subclasses).\n",
        "        \"\"\"\n",
        "        print(f\"Account Number: {self.__account_number}\")\n",
        "        print(f\"Current Balance: ₹{self.__balance:.2f}\")\n",
        "\n",
        "# Example usage:\n",
        "if __name__ == \"__main__\":\n",
        "    account1 = BankAccount(\"1234567890\", 1000)\n",
        "    account2 = BankAccount(\"9876543210\")\n",
        "\n",
        "    account1.deposit(500)\n",
        "    account1.withdraw(200)\n",
        "\n",
        "    try:\n",
        "        account1.withdraw(2000)\n",
        "    except ValueError as e:\n",
        "        print(f\"Error: {e}\")\n",
        "\n",
        "    print(f\"Account 1 Balance: ₹{account1.get_balance():.2f}\")\n",
        "    print(f\"Account 2 Balance: ₹{account2.get_balance():.2f}\")\n",
        "    print(f\"Account 1 Number: {account1.get_account_number()}\")\n",
        "\n",
        "    # Attempting to access private attributes directly (name mangling):\n",
        "    # print(account1.__balance)  # This will raise an AttributeError\n",
        "\n",
        "    # You can technically still access them using name mangling, but it's discouraged:\n",
        "    print(f\"Account 1 Balance (via name mangling): ₹{account1._BankAccount__balance:.2f}\")\n",
        "\n",
        "    account1._display_account_info()"
      ],
      "metadata": {
        "colab": {
          "base_uri": "https://localhost:8080/"
        },
        "id": "szjPtKIi9uDK",
        "outputId": "d88d83b8-301f-4f4e-f70a-f4e3e1bd03a8"
      },
      "execution_count": 5,
      "outputs": [
        {
          "output_type": "stream",
          "name": "stdout",
          "text": [
            "Deposited ₹500.00. New balance: ₹1500.00\n",
            "Withdrew ₹200.00. New balance: ₹1300.00\n",
            "Error: Insufficient balance.\n",
            "Account 1 Balance: ₹1300.00\n",
            "Account 2 Balance: ₹0.00\n",
            "Account 1 Number: 1234567890\n",
            "Account 1 Balance (via name mangling): ₹1300.00\n",
            "Account Number: 1234567890\n",
            "Current Balance: ₹1300.00\n"
          ]
        }
      ]
    },
    {
      "cell_type": "markdown",
      "source": [
        "11. Write a class that overrides __str__ and __add__."
      ],
      "metadata": {
        "id": "VqBBaJoH91J0"
      }
    },
    {
      "cell_type": "code",
      "source": [
        "class Book:\n",
        "    def __init__(self, title, pages):\n",
        "        self.title = title\n",
        "        self.pages = pages\n",
        "\n",
        "    def __str__(self):\n",
        "        return f\"{self.title} ({self.pages} pages)\"\n",
        "\n",
        "    def __add__(self, other):\n",
        "        return Book(f\"{self.title} &amp; {other.title}\", self.pages + other.pages)\n",
        "\n",
        "book1 = Book(\"Python\", 100)\n",
        "book2 = Book(\"Java\", 200)\n",
        "print(book1 + book2)  # Output: Python &amp; Java (300 pages)\n",
        "\n"
      ],
      "metadata": {
        "colab": {
          "base_uri": "https://localhost:8080/"
        },
        "id": "YeqWaxkKAaem",
        "outputId": "2141260b-e2fa-4f46-e8fd-5fc3023c2725"
      },
      "execution_count": 13,
      "outputs": [
        {
          "output_type": "stream",
          "name": "stdout",
          "text": [
            "Python &amp; Java (300 pages)\n"
          ]
        }
      ]
    },
    {
      "cell_type": "markdown",
      "source": [
        "12. Create a decorator that measures execution time."
      ],
      "metadata": {
        "id": "Z5jR-VKq-Acc"
      }
    },
    {
      "cell_type": "code",
      "source": [
        "import time\n",
        "\n",
        "def timer(func):\n",
        "    def wrapper(*args, **kwargs):\n",
        "        start = time.time()\n",
        "        result = func(*args, **kwargs)\n",
        "        end = time.time()\n",
        "        print(f\"Time taken: {end - start} seconds\")\n",
        "        return result\n",
        "    return wrapper\n",
        "\n",
        "@timer\n",
        "def example_function():\n",
        "    time.sleep(2)  # Corrected: time.sleep() is a function call\n",
        "    print(\"Function executed\") # Added to show function body execution\n",
        "    return None # Added to return a value\n",
        "\n",
        "# Corrected example usage:\n",
        "example_function()"
      ],
      "metadata": {
        "colab": {
          "base_uri": "https://localhost:8080/"
        },
        "id": "ferbhDw2BRI3",
        "outputId": "170d30de-e5bc-4e89-c348-9598883830b0"
      },
      "execution_count": 16,
      "outputs": [
        {
          "output_type": "stream",
          "name": "stdout",
          "text": [
            "Function executed\n",
            "Time taken: 2.000365734100342 seconds\n"
          ]
        }
      ]
    },
    {
      "cell_type": "markdown",
      "source": [
        "13. Explain the Diamond Problem and how Python resolves it.\n",
        "\n",
        "Answer:\n",
        "\n",
        "The Diamond Problem is an issue in multiple inheritance where a class inherits from two classes that share a common ancestor. This creates ambiguity about which version of an inherited method to use.\n",
        "\n",
        "Python's Solution: C3 Linearization\n",
        "\n",
        "Python resolves this with the C3 Linearization algorithm. C3 creates a Method Resolution Order (MRO), a predictable order in which methods are looked up. This eliminates the ambiguity of the Diamond Problem by ensuring a consistent and logical method resolution order."
      ],
      "metadata": {
        "id": "B56kium8CHBK"
      }
    },
    {
      "cell_type": "markdown",
      "source": [
        "14. Write a class method to track instance count."
      ],
      "metadata": {
        "id": "D5ueFijMBWqT"
      }
    },
    {
      "cell_type": "code",
      "source": [
        "class InstanceCounter:\n",
        "    count = 0\n",
        "    def __init__(self):\n",
        "        InstanceCounter.count += 1\n",
        "\n",
        "    @classmethod\n",
        "    def get_instance_count(cls):\n",
        "        return cls.count\n",
        "\n",
        "obj1 = InstanceCounter()\n",
        "obj2 = InstanceCounter()\n",
        "print(InstanceCounter.get_instance_count())\n"
      ],
      "metadata": {
        "colab": {
          "base_uri": "https://localhost:8080/"
        },
        "id": "eD1-S34cDyin",
        "outputId": "d68812e2-f84d-4858-f55c-50e24ea5f92c"
      },
      "execution_count": 17,
      "outputs": [
        {
          "output_type": "stream",
          "name": "stdout",
          "text": [
            "2\n"
          ]
        }
      ]
    },
    {
      "cell_type": "markdown",
      "source": [
        "15. Implement a static method to check leap years."
      ],
      "metadata": {
        "id": "d-MsFlTmD5en"
      }
    },
    {
      "cell_type": "code",
      "source": [
        "class YearChecker:\n",
        "    @staticmethod\n",
        "    def is_leap_year(year):\n",
        "        return year % 4 == 0 and (year % 100 != 0 or year % 400 == 0)\n",
        "\n",
        "print(YearChecker.is_leap_year(2024))\n"
      ],
      "metadata": {
        "colab": {
          "base_uri": "https://localhost:8080/"
        },
        "id": "FNIWDub8D8Yh",
        "outputId": "05faf4e4-17e0-401c-c0e8-fe7fe8f2f87f"
      },
      "execution_count": 18,
      "outputs": [
        {
          "output_type": "stream",
          "name": "stdout",
          "text": [
            "True\n"
          ]
        }
      ]
    },
    {
      "cell_type": "code",
      "source": [],
      "metadata": {
        "id": "L0KJWkJTp-s2"
      },
      "execution_count": null,
      "outputs": []
    }
  ]
}